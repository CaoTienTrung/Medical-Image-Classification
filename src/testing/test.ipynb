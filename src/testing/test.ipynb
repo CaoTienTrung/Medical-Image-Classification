{
 "cells": [
  {
   "cell_type": "code",
   "execution_count": 2,
   "id": "ff705998",
   "metadata": {},
   "outputs": [],
   "source": [
    "import os\n",
    "import random\n",
    "import numpy as np\n",
    "import torch\n",
    "from torch.utils.data import Dataset, DataLoader\n",
    "# from skimage.feature import hog, local_binary_pattern, greycomatrix, greycoprops\n",
    "from skimage.filters import gabor_kernel\n",
    "from scipy.ndimage import convolve\n",
    "import cv2"
   ]
  },
  {
   "cell_type": "code",
   "execution_count": 3,
   "id": "f76b7639",
   "metadata": {},
   "outputs": [],
   "source": [
    "class HOGFeatureExtractor:\n",
    "    def __init__(self):\n",
    "        self.params = {\n",
    "            'orientations': 9,\n",
    "            'pixels_per_cell': (8, 8),\n",
    "            'cells_per_block': (2, 2),\n",
    "            'block_norm': 'L2-Hys'\n",
    "        }\n",
    "\n",
    "    def extract(self, img):\n",
    "        if len(img.shape) == 3:\n",
    "            img = cv2.cvtColor(img, cv2.COLOR_BGR2GRAY)\n",
    "        return hog(img, **self.params)\n",
    "\n",
    "\n",
    "class LBPFeatureExtractor:\n",
    "    def __init__(self):\n",
    "        self.params = {\n",
    "            'P': 8,\n",
    "            'R': 1,\n",
    "            'method': 'uniform'\n",
    "        }\n",
    "\n",
    "    def extract(self, img):\n",
    "        if len(img.shape) == 3:\n",
    "            img = cv2.cvtColor(img, cv2.COLOR_BGR2GRAY)\n",
    "        lbp = local_binary_pattern(img, **self.params)\n",
    "        hist, _ = np.histogram(lbp.ravel(), bins=np.arange(0, 10), range=(0, 9), density=True)\n",
    "        return hist\n",
    "\n",
    "\n",
    "class GLCMFeatureExtractor:\n",
    "    def __init__(self):\n",
    "        self.params = {\n",
    "            'distances': [1],\n",
    "            'angles': [0, np.pi/4, np.pi/2, 3*np.pi/4],\n",
    "            'levels': 256,\n",
    "            'symmetric': True,\n",
    "            'normed': True\n",
    "        }\n",
    "        self.props = ['contrast', 'dissimilarity', 'homogeneity', 'ASM', 'energy', 'correlation']\n",
    "\n",
    "    def extract(self, img):\n",
    "        if len(img.shape) == 3:\n",
    "            img = cv2.cvtColor(img, cv2.COLOR_BGR2GRAY)\n",
    "        glcm = greycomatrix(img, **self.params)\n",
    "        return np.concatenate([greycoprops(glcm, p).flatten() for p in self.props])\n",
    "\n",
    "\n",
    "class GaborFeatureExtractor:\n",
    "    def __init__(self):\n",
    "        self.thetas = np.linspace(0, np.pi, 4, endpoint=False)\n",
    "        self.sigmas = [1, 3]\n",
    "        self.lambdas = [np.pi/4, np.pi/2]\n",
    "\n",
    "    def extract(self, img):\n",
    "        if len(img.shape) == 3:\n",
    "            img = cv2.cvtColor(img, cv2.COLOR_BGR2GRAY)\n",
    "        features = []\n",
    "        for theta in self.thetas:\n",
    "            for sigma in self.sigmas:\n",
    "                for lambd in self.lambdas:\n",
    "                    kernel = np.real(gabor_kernel(frequency=1.0/lambd, theta=theta, sigma_x=sigma, sigma_y=sigma))\n",
    "                    filtered = convolve(img.astype(np.float32), kernel, mode='reflect')\n",
    "                    features.append(filtered.mean())\n",
    "                    features.append(filtered.var())\n",
    "        return np.array(features)\n",
    "\n",
    "\n",
    "class SIFTFeatureExtractor:\n",
    "    def __init__(self, max_features=128):\n",
    "        self.sift = cv2.SIFT_create()\n",
    "        self.max_features = max_features\n",
    "\n",
    "    def extract(self, img):\n",
    "        if len(img.shape) == 3:\n",
    "            img = cv2.cvtColor(img, cv2.COLOR_BGR2GRAY)\n",
    "        keypoints, descriptors = self.sift.detectAndCompute(img, None)\n",
    "        if descriptors is None:\n",
    "            descriptors = np.zeros((0, 128), dtype=np.float32)\n",
    "        if descriptors.shape[0] < self.max_features:\n",
    "            pad = np.zeros((self.max_features - descriptors.shape[0], 128), dtype=np.float32)\n",
    "            descriptors = np.vstack((descriptors, pad))\n",
    "        else:\n",
    "            descriptors = descriptors[:self.max_features]\n",
    "        return descriptors.flatten()"
   ]
  },
  {
   "cell_type": "code",
   "execution_count": 9,
   "id": "296567e8",
   "metadata": {},
   "outputs": [],
   "source": [
    "img = cv2.imread(r\"F:\\Studies\\Third_year\\Computer_vision\\Project\\ProjectCode\\Dataset\\Data\\train\\adenocarcinoma_left.lower.lobe_T2_N0_M0_Ib\\000000 (6).png\")"
   ]
  },
  {
   "cell_type": "code",
   "execution_count": 10,
   "id": "cd6d6b1d",
   "metadata": {},
   "outputs": [],
   "source": [
    "data = cv2.cvtColor(img, cv2.COLOR_BGR2GRAY)"
   ]
  },
  {
   "cell_type": "code",
   "execution_count": 11,
   "id": "97495f80",
   "metadata": {},
   "outputs": [
    {
     "data": {
      "text/plain": [
       "(264, 409)"
      ]
     },
     "execution_count": 11,
     "metadata": {},
     "output_type": "execute_result"
    }
   ],
   "source": [
    "data.shape"
   ]
  },
  {
   "cell_type": "code",
   "execution_count": 17,
   "id": "ca3935cf",
   "metadata": {},
   "outputs": [
    {
     "data": {
      "text/plain": [
       "(32,)"
      ]
     },
     "execution_count": 17,
     "metadata": {},
     "output_type": "execute_result"
    }
   ],
   "source": [
    "feature = GaborFeatureExtractor().extract(data)\n",
    "feature.shape"
   ]
  },
  {
   "cell_type": "code",
   "execution_count": null,
   "id": "d9b4d660",
   "metadata": {},
   "outputs": [],
   "source": []
  }
 ],
 "metadata": {
  "kernelspec": {
   "display_name": "project_env",
   "language": "python",
   "name": "python3"
  },
  "language_info": {
   "codemirror_mode": {
    "name": "ipython",
    "version": 3
   },
   "file_extension": ".py",
   "mimetype": "text/x-python",
   "name": "python",
   "nbconvert_exporter": "python",
   "pygments_lexer": "ipython3",
   "version": "3.11.4"
  }
 },
 "nbformat": 4,
 "nbformat_minor": 5
}
