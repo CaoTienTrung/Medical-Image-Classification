{
 "cells": [
  {
   "cell_type": "code",
   "execution_count": 22,
   "id": "5df5ce53",
   "metadata": {},
   "outputs": [],
   "source": [
    "import numpy as np\n",
    "import pandas as pd\n",
    "import matplotlib.pyplot as plt\n",
    "import seaborn as sns\n",
    "import os\n",
    "import tensorflow as tf\n",
    "from tensorflow.keras.preprocessing import image_dataset_from_directory\n",
    "from tensorflow.keras.layers import *\n",
    "from tensorflow.keras.models import Model\n",
    "from tensorflow.keras.initializers import Constant\n",
    "from tensorflow.keras.optimizers import Adam\n",
    "from tensorflow.keras.losses import CategoricalCrossentropy, BinaryCrossentropy\n",
    "from tensorflow.keras.callbacks import EarlyStopping\n",
    "from sklearn.metrics import accuracy_score, precision_score, recall_score, f1_score, confusion_matrix, ConfusionMatrixDisplay, classification_report"
   ]
  },
  {
   "cell_type": "code",
   "execution_count": 5,
   "id": "fe3c0e92",
   "metadata": {},
   "outputs": [],
   "source": [
    "Chest_CT_IMG_SIZE = 227\n",
    "Chest_CT_IMG_CHANNEL = 3\n",
    "Chest_CT_BATCH_SIZE = 64\n",
    "Chest_CT_COLOR_MODE = 'rgb'"
   ]
  },
  {
   "cell_type": "code",
   "execution_count": 6,
   "id": "d51dca27",
   "metadata": {},
   "outputs": [],
   "source": [
    "Chest_CT_PATH = \"F:\\Studies\\Third_year\\Computer_vision\\Project\\ProjectCode\\Dataset\\Data\"\n",
    "Chest_CT_CLASSNAMES = sorted(os.listdir(Chest_CT_PATH + '/train'))"
   ]
  },
  {
   "cell_type": "code",
   "execution_count": 7,
   "id": "17602020",
   "metadata": {},
   "outputs": [
    {
     "data": {
      "text/plain": [
       "['adenocarcinoma', 'large.cell.carcinoma', 'normal', 'squamous.cell.carcinoma']"
      ]
     },
     "execution_count": 7,
     "metadata": {},
     "output_type": "execute_result"
    }
   ],
   "source": [
    "Chest_CT_CLASSNAMES"
   ]
  },
  {
   "cell_type": "code",
   "execution_count": 8,
   "id": "0e6baefa",
   "metadata": {},
   "outputs": [
    {
     "name": "stdout",
     "output_type": "stream",
     "text": [
      "Found 613 files belonging to 4 classes.\n"
     ]
    }
   ],
   "source": [
    "Chest_CT_train_set = image_dataset_from_directory(\n",
    "    Chest_CT_PATH + '/train',\n",
    "    labels='inferred',\n",
    "    label_mode='categorical',\n",
    "    class_names=Chest_CT_CLASSNAMES,\n",
    "    color_mode=Chest_CT_COLOR_MODE,\n",
    "    batch_size=Chest_CT_BATCH_SIZE,\n",
    "    image_size=(Chest_CT_IMG_SIZE, Chest_CT_IMG_SIZE),\n",
    "    interpolation='bilinear'\n",
    ")"
   ]
  },
  {
   "cell_type": "code",
   "execution_count": 9,
   "id": "572693ee",
   "metadata": {},
   "outputs": [
    {
     "name": "stdout",
     "output_type": "stream",
     "text": [
      "Found 72 files belonging to 4 classes.\n"
     ]
    }
   ],
   "source": [
    "Chest_CT_dev_set = image_dataset_from_directory(\n",
    "    Chest_CT_PATH + '/valid',\n",
    "    labels='inferred',\n",
    "    label_mode='categorical',\n",
    "    class_names=Chest_CT_CLASSNAMES,\n",
    "    color_mode=Chest_CT_COLOR_MODE,\n",
    "    batch_size=Chest_CT_BATCH_SIZE,\n",
    "    image_size=(Chest_CT_IMG_SIZE, Chest_CT_IMG_SIZE),\n",
    "    interpolation='bilinear'\n",
    ")"
   ]
  },
  {
   "cell_type": "code",
   "execution_count": 10,
   "id": "dc774391",
   "metadata": {},
   "outputs": [
    {
     "name": "stdout",
     "output_type": "stream",
     "text": [
      "Found 315 files belonging to 4 classes.\n"
     ]
    }
   ],
   "source": [
    "Chest_CT_test_set = image_dataset_from_directory(\n",
    "    Chest_CT_PATH + '/test',\n",
    "    labels='inferred',\n",
    "    label_mode='categorical',\n",
    "    class_names=Chest_CT_CLASSNAMES,\n",
    "    color_mode=Chest_CT_COLOR_MODE,\n",
    "    batch_size=Chest_CT_BATCH_SIZE,\n",
    "    image_size=(Chest_CT_IMG_SIZE, Chest_CT_IMG_SIZE),\n",
    "    interpolation='bilinear'\n",
    ")"
   ]
  },
  {
   "cell_type": "code",
   "execution_count": 11,
   "id": "8ae962b1",
   "metadata": {},
   "outputs": [],
   "source": [
    "from keras.applications.vgg16 import VGG16\n",
    "vgg = VGG16(include_top=False, input_shape=(227,227,3))\n",
    "\n",
    "for layer in vgg.layers:\n",
    "  layer.trainable = False\n",
    "\n",
    "flat = Flatten() (vgg.layers[-1].output)\n",
    "fc1 = Dense(1024, activation='relu') (flat)\n",
    "output = Dense(4, activation='softmax') (fc1)\n",
    "model_bt1 = Model(inputs=vgg.inputs, outputs=output)"
   ]
  },
  {
   "cell_type": "code",
   "execution_count": 12,
   "id": "dd0c1a5f",
   "metadata": {},
   "outputs": [
    {
     "name": "stdout",
     "output_type": "stream",
     "text": [
      "Epoch 1/5\n",
      "\u001b[1m10/10\u001b[0m \u001b[32m━━━━━━━━━━━━━━━━━━━━\u001b[0m\u001b[37m\u001b[0m \u001b[1m60s\u001b[0m 6s/step - accuracy: 0.3449 - loss: 130.6576 - val_accuracy: 0.5000 - val_loss: 46.0934\n",
      "Epoch 2/5\n",
      "\u001b[1m10/10\u001b[0m \u001b[32m━━━━━━━━━━━━━━━━━━━━\u001b[0m\u001b[37m\u001b[0m \u001b[1m58s\u001b[0m 6s/step - accuracy: 0.7412 - loss: 18.6092 - val_accuracy: 0.7917 - val_loss: 8.2931\n",
      "Epoch 3/5\n",
      "\u001b[1m10/10\u001b[0m \u001b[32m━━━━━━━━━━━━━━━━━━━━\u001b[0m\u001b[37m\u001b[0m \u001b[1m63s\u001b[0m 6s/step - accuracy: 0.9119 - loss: 3.5826 - val_accuracy: 0.7500 - val_loss: 13.4984\n",
      "Epoch 4/5\n",
      "\u001b[1m10/10\u001b[0m \u001b[32m━━━━━━━━━━━━━━━━━━━━\u001b[0m\u001b[37m\u001b[0m \u001b[1m61s\u001b[0m 6s/step - accuracy: 0.9684 - loss: 0.7895 - val_accuracy: 0.8056 - val_loss: 8.0477\n",
      "Epoch 5/5\n",
      "\u001b[1m10/10\u001b[0m \u001b[32m━━━━━━━━━━━━━━━━━━━━\u001b[0m\u001b[37m\u001b[0m \u001b[1m61s\u001b[0m 6s/step - accuracy: 0.9761 - loss: 0.5689 - val_accuracy: 0.8472 - val_loss: 7.5993\n"
     ]
    }
   ],
   "source": [
    "optimizer = Adam()\n",
    "loss = CategoricalCrossentropy()\n",
    "\n",
    "model_bt1.compile(\n",
    "    optimizer=optimizer,\n",
    "    loss=loss,\n",
    "    metrics=['accuracy']\n",
    ")\n",
    "\n",
    "history = model_bt1.fit(Chest_CT_train_set,\n",
    "                    epochs=5,\n",
    "                    validation_data=Chest_CT_dev_set)"
   ]
  },
  {
   "cell_type": "code",
   "execution_count": 14,
   "id": "4240f8ad",
   "metadata": {},
   "outputs": [],
   "source": [
    "import keras"
   ]
  },
  {
   "cell_type": "code",
   "execution_count": 15,
   "id": "55da694f",
   "metadata": {},
   "outputs": [],
   "source": [
    "def plot_accuracy_loss(history: keras.callbacks.History):\n",
    "    measures = ['accuracy', 'loss']\n",
    "    #tạo subplot gồm 1 hàng, 2 cột\n",
    "    fix, ax = plt.subplots(1, 2, figsize=(10,5))\n",
    "\n",
    "    for i in range(2):\n",
    "        ax[i].plot(history.history[measures[i]])\n",
    "        ax[i].plot(history.history[f'val_{measures[i]}'])\n",
    "        ax[i].set_title(f'MODEL {measures[i].upper()}', fontweight='bold', \n",
    "                fontsize=15, c='red')\n",
    "        ax[i].set_xlabel('Epoch', fontweight='bold',\n",
    "                fontsize=12)\n",
    "        ax[i].set_ylabel(measures[i], fontweight='bold',\n",
    "                fontsize=12)\n",
    "        ax[i].legend(['train', 'val'], loc='upper left')\n",
    "        ax[i].tick_params(axis='x', rotation=45)  \n",
    "    plt.show()"
   ]
  },
  {
   "cell_type": "code",
   "execution_count": 16,
   "id": "420a2f1f",
   "metadata": {},
   "outputs": [
    {
     "data": {
      "image/png": "[encoded data removed]",
      "text/plain": [
       "<Figure size 1000x500 with 2 Axes>"
      ]
     },
     "metadata": {},
     "output_type": "display_data"
    }
   ],
   "source": [
    "plot_accuracy_loss(history)"
   ]
  },
  {
   "cell_type": "code",
   "execution_count": 17,
   "id": "26254cb1",
   "metadata": {},
   "outputs": [
    {
     "name": "stdout",
     "output_type": "stream",
     "text": [
      "\u001b[1m2/2\u001b[0m \u001b[32m━━━━━━━━━━━━━━━━━━━━\u001b[0m\u001b[37m\u001b[0m \u001b[1m6s\u001b[0m 3s/step\n",
      "\u001b[1m2/2\u001b[0m \u001b[32m━━━━━━━━━━━━━━━━━━━━\u001b[0m\u001b[37m\u001b[0m \u001b[1m6s\u001b[0m 3s/step\n",
      "\u001b[1m2/2\u001b[0m \u001b[32m━━━━━━━━━━━━━━━━━━━━\u001b[0m\u001b[37m\u001b[0m \u001b[1m5s\u001b[0m 3s/step\n",
      "\u001b[1m2/2\u001b[0m \u001b[32m━━━━━━━━━━━━━━━━━━━━\u001b[0m\u001b[37m\u001b[0m \u001b[1m5s\u001b[0m 3s/step\n",
      "\u001b[1m2/2\u001b[0m \u001b[32m━━━━━━━━━━━━━━━━━━━━\u001b[0m\u001b[37m\u001b[0m \u001b[1m5s\u001b[0m 3s/step\n"
     ]
    }
   ],
   "source": [
    "y_pred_total = []\n",
    "y_true = []\n",
    "\n",
    "for img, label in Chest_CT_test_set:\n",
    "  y_pred = model_bt1.predict(img)\n",
    "  y_pred_total += [np.argmax(i, axis=-1) for i in y_pred]\n",
    "  y_true += [np.argmax(i, axis=-1) for i in label]"
   ]
  },
  {
   "cell_type": "code",
   "execution_count": 18,
   "id": "342caf0e",
   "metadata": {},
   "outputs": [
    {
     "name": "stdout",
     "output_type": "stream",
     "text": [
      "Accuracy: 0.8603174603174604\n",
      "Precision: 0.8668045343137255\n",
      "Recall: 0.8868736383442266\n",
      "F1 macro: 0.8707035071184552\n"
     ]
    }
   ],
   "source": [
    "print(f'Accuracy: {accuracy_score(y_true, y_pred_total)}')\n",
    "print(f\"Precision: {precision_score(y_true, y_pred_total, average='macro')}\")\n",
    "print(f\"Recall: {recall_score(y_true, y_pred_total, average='macro')}\")\n",
    "print(f\"F1 macro: {f1_score(y_true, y_pred_total, average='macro')}\")"
   ]
  },
  {
   "cell_type": "code",
   "execution_count": null,
   "id": "8970863b",
   "metadata": {},
   "outputs": [],
   "source": []
  }
 ],
 "metadata": {
  "kernelspec": {
   "display_name": "prj__env",
   "language": "python",
   "name": "python3"
  },
  "language_info": {
   "codemirror_mode": {
    "name": "ipython",
    "version": 3
   },
   "file_extension": ".py",
   "mimetype": "text/x-python",
   "name": "python",
   "nbconvert_exporter": "python",
   "pygments_lexer": "ipython3",
   "version": "3.11.11"
  }
 },
 "nbformat": 4,
 "nbformat_minor": 5
}
